{
 "cells": [
  {
   "cell_type": "code",
   "execution_count": 1,
   "metadata": {},
   "outputs": [],
   "source": [
    "# -*- coding: utf-8 -*-\n",
    "%matplotlib inline\n",
    "\n",
    "import pandas as pd\n",
    "import numpy as np\n",
    "import math\n",
    "import matplotlib as mplstyle\n",
    "import matplotlib.pyplot as plt\n",
    "import locale\n",
    "import arrow\n",
    "from locale import atof\n",
    "from dateutil import parser\n",
    "from datetime import datetime"
   ]
  },
  {
   "cell_type": "code",
   "execution_count": 39,
   "metadata": {},
   "outputs": [],
   "source": [
    "# Import test data\n",
    "df_test = pd.read_csv('data/old_results.csv')\n",
    "\n",
    "# Drop two extra columns\n",
    "df_test = df_test.drop(['Unnamed: 6',' []'], axis=1) "
   ]
  },
  {
   "cell_type": "code",
   "execution_count": 43,
   "metadata": {},
   "outputs": [
    {
     "data": {
      "text/html": [
       "<div>\n",
       "<table border=\"1\" class=\"dataframe\">\n",
       "  <thead>\n",
       "    <tr style=\"text-align: right;\">\n",
       "      <th></th>\n",
       "      <th>Timestamp</th>\n",
       "      <th>Rank 1</th>\n",
       "      <th>Rank 2</th>\n",
       "      <th>Rank 3</th>\n",
       "      <th>Rank 4</th>\n",
       "      <th>Rank 5</th>\n",
       "    </tr>\n",
       "  </thead>\n",
       "  <tbody>\n",
       "    <tr>\n",
       "      <th>0</th>\n",
       "      <td>12/5/2016 7:31:50</td>\n",
       "      <td>Beyonce, Lemonade</td>\n",
       "      <td>Car Seat Headrest, Teens Of Denial</td>\n",
       "      <td>Wilco, Schmilco</td>\n",
       "      <td>Radiohead, A Moon Shaped Pool</td>\n",
       "      <td>Bon Iver, 22, A Million</td>\n",
       "    </tr>\n",
       "    <tr>\n",
       "      <th>1</th>\n",
       "      <td>12/5/2016 7:34:17</td>\n",
       "      <td>Radiohead, A Moon Shaped Pool</td>\n",
       "      <td>Wilco, Schmilco</td>\n",
       "      <td>Bon Iver, 22, A Million</td>\n",
       "      <td>Beyonce, Lemonade</td>\n",
       "      <td>Car Seat Headrest, Teens Of Denial</td>\n",
       "    </tr>\n",
       "    <tr>\n",
       "      <th>2</th>\n",
       "      <td>12/5/2016 7:53:03</td>\n",
       "      <td>Solange, A Seat At The Table</td>\n",
       "      <td>Bon Iver, 22, A Million</td>\n",
       "      <td>NaN</td>\n",
       "      <td>NaN</td>\n",
       "      <td>NaN</td>\n",
       "    </tr>\n",
       "    <tr>\n",
       "      <th>3</th>\n",
       "      <td>12/5/2016 7:54:56</td>\n",
       "      <td>Ry X, Dawn</td>\n",
       "      <td>Greg Laswell, Everyone Thinks I Dodged A Bullet</td>\n",
       "      <td>Weezer, White Album</td>\n",
       "      <td>Radiohead, A Moon Shaped Pool</td>\n",
       "      <td>Wilco, Schmilco</td>\n",
       "    </tr>\n",
       "    <tr>\n",
       "      <th>4</th>\n",
       "      <td>12/5/2016 12:32:36</td>\n",
       "      <td>solange, seat at the table</td>\n",
       "      <td>bon iver, 22 a million</td>\n",
       "      <td>beyonce, lemonade</td>\n",
       "      <td>frank ocean, blonde</td>\n",
       "      <td>angel olsen, my woman</td>\n",
       "    </tr>\n",
       "  </tbody>\n",
       "</table>\n",
       "</div>"
      ],
      "text/plain": [
       "            Timestamp                         Rank 1  \\\n",
       "0   12/5/2016 7:31:50              Beyonce, Lemonade   \n",
       "1   12/5/2016 7:34:17  Radiohead, A Moon Shaped Pool   \n",
       "2   12/5/2016 7:53:03   Solange, A Seat At The Table   \n",
       "3   12/5/2016 7:54:56                     Ry X, Dawn   \n",
       "4  12/5/2016 12:32:36     solange, seat at the table   \n",
       "\n",
       "                                            Rank 2                   Rank 3  \\\n",
       "0               Car Seat Headrest, Teens Of Denial          Wilco, Schmilco   \n",
       "1                                  Wilco, Schmilco  Bon Iver, 22, A Million   \n",
       "2                          Bon Iver, 22, A Million                      NaN   \n",
       "3  Greg Laswell, Everyone Thinks I Dodged A Bullet      Weezer, White Album   \n",
       "4                           bon iver, 22 a million        beyonce, lemonade   \n",
       "\n",
       "                          Rank 4                              Rank 5  \n",
       "0  Radiohead, A Moon Shaped Pool             Bon Iver, 22, A Million  \n",
       "1              Beyonce, Lemonade  Car Seat Headrest, Teens Of Denial  \n",
       "2                            NaN                                 NaN  \n",
       "3  Radiohead, A Moon Shaped Pool                     Wilco, Schmilco  \n",
       "4            frank ocean, blonde               angel olsen, my woman  "
      ]
     },
     "execution_count": 43,
     "metadata": {},
     "output_type": "execute_result"
    }
   ],
   "source": [
    "# Keep only the rows with at least 2 non-na values\n",
    "df_test_clean = df_test.dropna(thresh=2)\n",
    "df_test.head(5)"
   ]
  },
  {
   "cell_type": "code",
   "execution_count": 54,
   "metadata": {},
   "outputs": [],
   "source": [
    "# df_test\n",
    "\n",
    "# remove duplicates within next ten rows \n",
    "for i in range(0,len(df_test_clean.index)):\n",
    "    for j in range(i, i+10):\n",
    "        df_test_clean = df_test_clean.drop_duplicates(subset=[\"Rank 1\",\"Rank 2\", \"Rank 3\", \"Rank 4\", \"Rank 5\"], keep='last')\n",
    "        df_test_clean\n",
    "        \n",
    "#     print i\n",
    "#     print(df_test_clean.at[i,\"Rank 2\"])\n",
    "\n",
    "#     # check if every column in a row has the some album, then remove \n",
    "#     if df_test_clean.at[i,\"Rank 1\"] == df_test_clean.at[i,\"Rank 2\"] == df_test_clean.at[i,\"Rank 3\"] == df_test_clean.at[i,\"Rank 4\"] == df_test_clean.at[i,\"Rank 5\"]:\n",
    "#         print df_test_clean.at[i,\"Rank 2\"]\n",
    "#         print 'dupe'\n",
    "#         df_test_clean.replace(df_test_clean.at[i,\"Rank 2\"],np.nan) \n",
    "#         print albums.at[i,\"Rank 2\"]"
   ]
  },
  {
   "cell_type": "code",
   "execution_count": null,
   "metadata": {},
   "outputs": [],
   "source": []
  },
  {
   "cell_type": "code",
   "execution_count": null,
   "metadata": {},
   "outputs": [],
   "source": []
  },
  {
   "cell_type": "code",
   "execution_count": null,
   "metadata": {},
   "outputs": [],
   "source": []
  }
 ],
 "metadata": {
  "kernelspec": {
   "display_name": "Python 2",
   "language": "python",
   "name": "python2"
  },
  "language_info": {
   "codemirror_mode": {
    "name": "ipython",
    "version": 2
   },
   "file_extension": ".py",
   "mimetype": "text/x-python",
   "name": "python",
   "nbconvert_exporter": "python",
   "pygments_lexer": "ipython2",
   "version": "2.7.12"
  }
 },
 "nbformat": 4,
 "nbformat_minor": 2
}
