{
 "cells": [
  {
   "cell_type": "code",
   "execution_count": 11,
   "metadata": {},
   "outputs": [],
   "source": [
    "# -*- coding: utf-8 -*-\n",
    "%matplotlib inline\n",
    "\n",
    "import pandas as pd\n",
    "import numpy as np\n",
    "import math\n",
    "import matplotlib as mplstyle\n",
    "import matplotlib.pyplot as plt\n",
    "import locale\n",
    "import arrow\n",
    "from locale import atof\n",
    "from dateutil import parser\n",
    "from datetime import datetime"
   ]
  },
  {
   "cell_type": "code",
   "execution_count": 12,
   "metadata": {},
   "outputs": [],
   "source": [
    "# Import test data\n",
    "df_test = pd.read_csv('data/old_results.csv')\n",
    "\n",
    "# Drop two extra columns\n",
    "df_test = df_test.drop(['Unnamed: 6',' []'], axis=1) "
   ]
  },
  {
   "cell_type": "code",
   "execution_count": 13,
   "metadata": {},
   "outputs": [
    {
     "data": {
      "text/plain": [
       "Timestamp    3621\n",
       "Rank 1       3557\n",
       "Rank 2       3025\n",
       "Rank 3       2815\n",
       "Rank 4       2649\n",
       "Rank 5       2501\n",
       "dtype: int64"
      ]
     },
     "execution_count": 13,
     "metadata": {},
     "output_type": "execute_result"
    }
   ],
   "source": [
    "# Keep only the rows with at least 2 non-na values\n",
    "df_test_clean = df_test.dropna(thresh=2)\n",
    "df_test.count()"
   ]
  },
  {
   "cell_type": "code",
   "execution_count": 14,
   "metadata": {},
   "outputs": [],
   "source": [
    "df_test_clean = df_test_clean.drop_duplicates(subset=[\"Rank 1\",\"Rank 2\", \"Rank 3\", \"Rank 4\", \"Rank 5\"], keep='last')"
   ]
  }
 ],
 "metadata": {
  "kernelspec": {
   "display_name": "Python 2",
   "language": "python",
   "name": "python2"
  },
  "language_info": {
   "codemirror_mode": {
    "name": "ipython",
    "version": 2
   },
   "file_extension": ".py",
   "mimetype": "text/x-python",
   "name": "python",
   "nbconvert_exporter": "python",
   "pygments_lexer": "ipython2",
   "version": "2.7.12"
  }
 },
 "nbformat": 4,
 "nbformat_minor": 2
}
